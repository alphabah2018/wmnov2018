{
  "nbformat": 4,
  "nbformat_minor": 0,
  "metadata": {
    "colab": {
      "name": "Untitled",
      "version": "0.3.2",
      "provenance": [],
      "collapsed_sections": [],
      "include_colab_link": true
    },
    "kernelspec": {
      "name": "python3",
      "display_name": "Python 3"
    }
  },
  "cells": [
    {
      "cell_type": "markdown",
      "metadata": {
        "id": "view-in-github",
        "colab_type": "text"
      },
      "source": [
        "<a href=\"https://colab.research.google.com/github/alphabah2018/wmnov2018/blob/master/Untitled.ipynb\" target=\"_parent\"><img src=\"https://colab.research.google.com/assets/colab-badge.svg\" alt=\"Open In Colab\"/></a>"
      ]
    },
    {
      "cell_type": "code",
      "metadata": {
        "id": "mNYLGxWnThmR",
        "colab_type": "code",
        "colab": {}
      },
      "source": [
        "a=int(input())\n",
        "b=int(input())\n",
        "c=int(input())\n",
        "d=int(input())\n",
        "if (b == 0 or d == 0):\n",
        "  print(\"Division par zéro interdite !\")\n",
        "else:\n",
        "  print(a*c)\n",
        "  print(b*d)\n",
        "  "
      ],
      "execution_count": 0,
      "outputs": []
    },
    {
      "cell_type": "code",
      "metadata": {
        "id": "F-1zviC8a_gl",
        "colab_type": "code",
        "colab": {}
      },
      "source": [
        ""
      ],
      "execution_count": 0,
      "outputs": []
    },
    {
      "cell_type": "code",
      "metadata": {
        "id": "jbjdnLCHVuIM",
        "colab_type": "code",
        "colab": {
          "base_uri": "https://localhost:8080/",
          "height": 34
        },
        "outputId": "60ec6f7f-d52a-43fb-e815-4225ca6f20ca"
      },
      "source": [
        "import random\n",
        "x=random.random()\n",
        "if x<0.5:\n",
        "  tirage=\"pile\"\n",
        "else:\n",
        "  tirage=\"face\"\n",
        "print(tirage)"
      ],
      "execution_count": 17,
      "outputs": [
        {
          "output_type": "stream",
          "text": [
            "face\n"
          ],
          "name": "stdout"
        }
      ]
    },
    {
      "cell_type": "code",
      "metadata": {
        "id": "M7X4hl7MXlD5",
        "colab_type": "code",
        "colab": {}
      },
      "source": [
        ""
      ],
      "execution_count": 0,
      "outputs": []
    },
    {
      "cell_type": "code",
      "metadata": {
        "id": "UmmA8IFrWYYT",
        "colab_type": "code",
        "colab": {}
      },
      "source": [
        "for i in range(0,100):\n",
        "  print(\"**\")\n",
        "for j in range(0,100):\n",
        "  print(\"$$$\")\n",
        "print()\n"
      ],
      "execution_count": 0,
      "outputs": []
    },
    {
      "cell_type": "code",
      "metadata": {
        "id": "80dFV5CUXoH9",
        "colab_type": "code",
        "colab": {}
      },
      "source": [
        "n=int(input(\"Saisir un entier au clavier\"))\n",
        "print(\"Voici la liste de diviseurs de n\")\n",
        "for i in range(1,n+1):\n",
        "  if n%i==0:\n",
        "    print(i)"
      ],
      "execution_count": 0,
      "outputs": []
    },
    {
      "cell_type": "code",
      "metadata": {
        "id": "Wydgy1QUZQ1o",
        "colab_type": "code",
        "colab": {}
      },
      "source": [
        "L=[4,8,9,34,28]\n",
        "print(L[4])\n",
        "L[1]=17\n",
        "L[3]=L[2]+L[4]\n",
        "for i in range(0,12):\n",
        "  print(L[len(L)-1])\n",
        "  "
      ],
      "execution_count": 0,
      "outputs": []
    },
    {
      "cell_type": "code",
      "metadata": {
        "id": "H0xxMdBMbB7W",
        "colab_type": "code",
        "colab": {}
      },
      "source": [
        "\n",
        "L= [6,32,24,6,45]\n",
        "l= len[L]\n",
        "aux = L[0]\n",
        "L[0] = L[l-1]\n",
        "L[l-1] = aux\n",
        "print(L)\n"
      ],
      "execution_count": 0,
      "outputs": []
    },
    {
      "cell_type": "code",
      "metadata": {
        "id": "AjcATwoREWjE",
        "colab_type": "code",
        "colab": {}
      },
      "source": [
        ""
      ],
      "execution_count": 0,
      "outputs": []
    },
    {
      "cell_type": "code",
      "metadata": {
        "id": "EFz3C0U8jByU",
        "colab_type": "code",
        "colab": {}
      },
      "source": [
        "for i in range(0,24):\n",
        "  print(i,\"Je dois recopier 24 fois cette phrase\")"
      ],
      "execution_count": 0,
      "outputs": []
    },
    {
      "cell_type": "code",
      "metadata": {
        "id": "RSfZKpLkksDJ",
        "colab_type": "code",
        "colab": {}
      },
      "source": [
        "listes_fruits=[\"pomme\",\"ananas\",\"orange\",\"pastèque\"]\n",
        "for fruits in listes_fruits:\n",
        "  print(fruits)"
      ],
      "execution_count": 0,
      "outputs": []
    },
    {
      "cell_type": "code",
      "metadata": {
        "id": "Co9NAxpDl1ss",
        "colab_type": "code",
        "colab": {}
      },
      "source": [
        "listes_fruits=[\"pomme\",\"ananas\",\"orange\",\"pastèque\"]\n",
        "for i, fruits in enumerate(listes_fruits):\n",
        "  print(i+1,fruits)"
      ],
      "execution_count": 0,
      "outputs": []
    },
    {
      "cell_type": "code",
      "metadata": {
        "id": "RoDmzgsNB90Z",
        "colab_type": "code",
        "colab": {}
      },
      "source": [
        "def main():\n",
        "    pass\n",
        "\n",
        "if __name__ == '__main__':\n",
        "    main()\n",
        "# La fonction append()\n",
        "liste_initale=[0,1,2,3,4,5,6,7,8,9,10,11,12,13,14,15]\n",
        "liste_2=[] # liste vide pour stocker le resultat\n",
        "for n in liste_initale:\n",
        "    liste_2.append(n*2)\n",
        "print(liste_2)\n"
      ],
      "execution_count": 0,
      "outputs": []
    },
    {
      "cell_type": "code",
      "metadata": {
        "id": "c0YnUjSnCOH4",
        "colab_type": "code",
        "colab": {}
      },
      "source": [
        "# Le code donne le même resultat, la boucle est stockée dans la variable liste_2\n",
        "liste_initale=[0,1,2,3,4,5,6,7,8,9,10,11,12,13,14,15]\n",
        "liste_2=[n*2 for n in liste_initale]\n",
        "print(liste_2)"
      ],
      "execution_count": 0,
      "outputs": []
    },
    {
      "cell_type": "code",
      "metadata": {
        "id": "TGlb1EJsCs0M",
        "colab_type": "code",
        "colab": {}
      },
      "source": [
        "\n",
        "class Compte_banque:\n",
        "\n",
        "    def __init__ (self,titulaire=\"Alpha\",solde=10000):\n",
        "\n",
        "        self.titulaire=titulaire\n",
        "        self.solde=solde\n",
        "\n",
        "    def Debuter(self,montant):\n",
        "        self.solde=self.solde-montant\n",
        "\n",
        "    def Credit(self,montant):\n",
        "        self.solde=self.solde+montant\n",
        "\n",
        "    def Afficher(self):\n",
        "        print(\"Le solde de %s est de %.2f euros.\"%(self.titulaire,self.solde))\n",
        "\n",
        "\n",
        "monCompte=Compte_banque(\"Mathieu\",3000)\n",
        "\n",
        "monCompte.Debuter(500)\n",
        "monCompte.Credit(200)\n",
        "monCompte.Afficher()\n",
        "\n",
        "monCompte1 =Compte_banque()\n",
        "monCompte1.Credit(30)\n",
        "monCompte1.Afficher()"
      ],
      "execution_count": 0,
      "outputs": []
    },
    {
      "cell_type": "code",
      "metadata": {
        "id": "TTOQEbmalqv5",
        "colab_type": "code",
        "colab": {}
      },
      "source": [
        ""
      ],
      "execution_count": 0,
      "outputs": []
    }
  ]
}